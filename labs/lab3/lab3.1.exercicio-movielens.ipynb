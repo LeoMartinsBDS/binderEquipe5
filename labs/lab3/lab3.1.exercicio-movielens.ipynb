{
 "cells": [
  {
   "cell_type": "markdown",
   "id": "static-illness",
   "metadata": {},
   "source": [
    "## **PREENCHA A CÉLULA ABAIXO COM O(S) INTEGRANTE(S)**\n",
    "\n",
    "### Colocar o nome completo e RA"
   ]
  },
  {
   "cell_type": "raw",
   "id": "social-collection",
   "metadata": {},
   "source": [
    "INTEGRANTE 01: Fulano Silva (RA: 000)\n",
    "INTEGRANTE 02: Cicrano Souza (RA: 001) [opcional]"
   ]
  },
  {
   "cell_type": "markdown",
   "id": "radical-ballot",
   "metadata": {},
   "source": [
    "# Movielens"
   ]
  },
  {
   "cell_type": "markdown",
   "id": "private-connectivity",
   "metadata": {},
   "source": [
    "Este [dataset](https://grouplens.org/datasets/movielens/100k/) descreve as avaliações de filmes feitas por usuários no site [MovieLens](https://movielens.org/), um serviço de recomendação de filmes. As avaliações (ratings) variam de 1 a 5, cada usuário avaliou pelo menos 20 filmes e existem simples informações demográficas sobre os usuários. Existem no banco de dados, aproximadamente, 100,000 avaliações de 1000 usuários feitas a 1700 filmes."
   ]
  },
  {
   "cell_type": "markdown",
   "id": "muslim-amsterdam",
   "metadata": {},
   "source": [
    "## Descrição das tabelas"
   ]
  },
  {
   "cell_type": "markdown",
   "id": "comprehensive-gather",
   "metadata": {},
   "source": [
    "* **Occupations**: Armazena a lista de ocupações dos usuários;\n",
    "* **Users**: Armazena informações sobre os usuários, por exemplo, idade e cep;\n",
    "* **Ratings**: Armazena as notas que os usuários atribuíram aos filmes e em qual momento esta nota foi atribuída;\n",
    "* **Movies**: Armazena informações dos filmes;\n",
    "* **Genres_movies**: Armazena o relacionamento dos gêneros e dos filmes;\n",
    "* **Genres**: Armazena a lista de gêneros."
   ]
  },
  {
   "cell_type": "markdown",
   "id": "radio-routine",
   "metadata": {},
   "source": [
    "## Diagrama de Tabelas - Modelo lógico"
   ]
  },
  {
   "cell_type": "markdown",
   "id": "conceptual-rating",
   "metadata": {},
   "source": [
    "<img src=\"../../resources/images/movielens_diagram.png\" width=\"1000px\">\n"
   ]
  },
  {
   "cell_type": "code",
   "execution_count": null,
   "id": "graduate-coach",
   "metadata": {},
   "outputs": [],
   "source": [
    "SHOW DATABASES;"
   ]
  },
  {
   "cell_type": "code",
   "execution_count": null,
   "id": "automotive-genre",
   "metadata": {},
   "outputs": [],
   "source": [
    "USE movielens;"
   ]
  },
  {
   "cell_type": "code",
   "execution_count": null,
   "id": "controlled-conversation",
   "metadata": {},
   "outputs": [],
   "source": [
    "SHOW TABLES;"
   ]
  },
  {
   "cell_type": "code",
   "execution_count": null,
   "id": "public-fishing",
   "metadata": {},
   "outputs": [],
   "source": [
    "SHOW TABLE STATUS;"
   ]
  },
  {
   "cell_type": "markdown",
   "id": "swedish-shaft",
   "metadata": {},
   "source": [
    "# Questões Exemplo"
   ]
  },
  {
   "cell_type": "markdown",
   "id": "specialized-contemporary",
   "metadata": {},
   "source": [
    "## [Questão Exemplo] Liste todos os usuários\n",
    "<!--\n",
    "SELECT * FROM users LIMIT 10;\n",
    "SELECT * FROM users; -->"
   ]
  },
  {
   "cell_type": "code",
   "execution_count": null,
   "id": "apart-puppy",
   "metadata": {},
   "outputs": [],
   "source": [
    "SELECT * FROM users LIMIT 10;"
   ]
  },
  {
   "cell_type": "markdown",
   "id": "focal-boxing",
   "metadata": {},
   "source": [
    "## [Questão Exemplo] Liste o sexo e a idade dos usuários\n",
    "<!--\n",
    " SELECT gender, age FROM users LIMIT 10;-->"
   ]
  },
  {
   "cell_type": "code",
   "execution_count": null,
   "id": "organic-survival",
   "metadata": {},
   "outputs": [],
   "source": [
    "SELECT gender, age FROM users LIMIT 10;"
   ]
  },
  {
   "cell_type": "markdown",
   "id": "documentary-shannon",
   "metadata": {},
   "source": [
    "## [Questão Exemplo] Liste todos os sexos dos usuários sem repetição\n",
    "<!-- SELECT DISTINCT gender FROM users; -->"
   ]
  },
  {
   "cell_type": "code",
   "execution_count": null,
   "id": "adaptive-diagnosis",
   "metadata": {},
   "outputs": [],
   "source": [
    "SELECT DISTINCT gender FROM users;"
   ]
  },
  {
   "cell_type": "markdown",
   "id": "respiratory-bacon",
   "metadata": {},
   "source": [
    "## [Questão Exemplo] Liste o id e a idade dos usuários que possuem mais de 25 anos\n",
    "<!-- SELECT id, age FROM users WHERE age > 25;-->"
   ]
  },
  {
   "cell_type": "code",
   "execution_count": null,
   "id": "honey-mortality",
   "metadata": {},
   "outputs": [],
   "source": [
    "SELECT id, age FROM users WHERE age > 25 LIMIT 10;"
   ]
  },
  {
   "cell_type": "markdown",
   "id": "promising-porter",
   "metadata": {},
   "source": [
    "## [Questão Exemplo] Liste o id e a idade dos usuários que possuem entre 25 anos e 35 anos\n",
    "<!-- SELECT id, age FROM users WHERE age > 25 AND age < 35 LIMIT 10;-->"
   ]
  },
  {
   "cell_type": "code",
   "execution_count": null,
   "id": "ancient-sociology",
   "metadata": {},
   "outputs": [],
   "source": [
    "SELECT id, age FROM users WHERE age > 25 AND age < 35 LIMIT 10;"
   ]
  },
  {
   "cell_type": "markdown",
   "id": "physical-thumb",
   "metadata": {},
   "source": [
    "## [Questão Exemplo] Liste o id e o gênero dos usuários que fizeram pelo menos uma avaliação de filme"
   ]
  },
  {
   "cell_type": "code",
   "execution_count": null,
   "id": "least-senegal",
   "metadata": {},
   "outputs": [],
   "source": [
    "--Consulta aninhada\n",
    "SELECT id, gender FROM\n",
    " users\n",
    " WHERE id IN\n",
    "(SELECT user_id FROM ratings) LIMIT 10;"
   ]
  },
  {
   "cell_type": "code",
   "execution_count": null,
   "id": "grateful-locator",
   "metadata": {},
   "outputs": [],
   "source": [
    "--Junção\n",
    "SELECT u.id, u.gender FROM\n",
    " users u JOIN ratings r on u.id = r.user_id\n",
    " LIMIT 10;"
   ]
  },
  {
   "cell_type": "markdown",
   "id": "modular-constant",
   "metadata": {},
   "source": [
    "## [Questão Exemplo] Quantos usuários são do sexo masculino e quantos usuários são do sexo feminino?"
   ]
  },
  {
   "cell_type": "code",
   "execution_count": null,
   "id": "front-discount",
   "metadata": {},
   "outputs": [],
   "source": [
    "SELECT gender, COUNT(*)\n",
    "FROM users\n",
    "GROUP BY gender;"
   ]
  },
  {
   "cell_type": "markdown",
   "id": "unlike-visibility",
   "metadata": {},
   "source": [
    "## [Questão Exemplo] Quantos usuários tem o mesmo sexo e a mesma idade?"
   ]
  },
  {
   "cell_type": "code",
   "execution_count": null,
   "id": "wanted-jimmy",
   "metadata": {},
   "outputs": [],
   "source": [
    "SELECT age, gender, COUNT(*)\n",
    "FROM users\n",
    "GROUP BY age, gender;"
   ]
  },
  {
   "cell_type": "markdown",
   "id": "capital-eligibility",
   "metadata": {},
   "source": [
    "# Questões a serem respondidas"
   ]
  },
  {
   "cell_type": "markdown",
   "id": "decreased-party",
   "metadata": {},
   "source": [
    "## [Questão 1] Liste todos os filmes\n",
    "<!--\n",
    "SELECT * FROM movies LIMIT 10; \n",
    "-->"
   ]
  },
  {
   "cell_type": "code",
   "execution_count": null,
   "id": "occasional-affairs",
   "metadata": {},
   "outputs": [],
   "source": []
  },
  {
   "cell_type": "markdown",
   "id": "conventional-boulder",
   "metadata": {},
   "source": [
    "## [Questão 2] Liste todos os títulos e data de lançamento dos filmes\n",
    "<!--\n",
    "SELECT title, release_date FROM movies LIMIT 10; \n",
    "-->"
   ]
  },
  {
   "cell_type": "code",
   "execution_count": null,
   "id": "extensive-dubai",
   "metadata": {},
   "outputs": [],
   "source": []
  },
  {
   "cell_type": "markdown",
   "id": "cheap-consistency",
   "metadata": {},
   "source": [
    "## [Questão 3] Liste todas as datas que tiveram lançamento de filmes sem repetição\n",
    "<!--\n",
    "SELECT DISTINCT release_date FROM movies LIMIT 10; \n",
    "-->"
   ]
  },
  {
   "cell_type": "code",
   "execution_count": null,
   "id": "unlikely-prisoner",
   "metadata": {},
   "outputs": [],
   "source": []
  },
  {
   "cell_type": "markdown",
   "id": "extra-scout",
   "metadata": {},
   "source": [
    "## [Questão 4] Liste o título de todos os filmes com data de lançamento maior que 07/07/1995. \n",
    "\n",
    "Dica: Não é mandatório, mas veja a documentação sobre `date`: https://mariadb.com/kb/en/date/\n",
    "<!--\n",
    "SELECT title, release_date FROM movies WHERE release_date > str_to_date(\"07/07/1995\", \"%d/%m/%Y\") LIMIT 20;\n",
    "-->"
   ]
  },
  {
   "cell_type": "code",
   "execution_count": null,
   "id": "modified-pendant",
   "metadata": {},
   "outputs": [],
   "source": []
  },
  {
   "cell_type": "markdown",
   "id": "smooth-shadow",
   "metadata": {},
   "source": [
    "## [Questão 5] Liste todos os usuários e o nome de suas profissões \n",
    "<!--\n",
    "SELECT u.id as user_id, o.name as occupation FROM users u JOIN occupations o ON u.occupation_id = o.id  LIMIT 10; \n",
    "-->"
   ]
  },
  {
   "cell_type": "code",
   "execution_count": null,
   "id": "useful-newfoundland",
   "metadata": {},
   "outputs": [],
   "source": []
  },
  {
   "cell_type": "markdown",
   "id": "challenging-world",
   "metadata": {},
   "source": [
    "## [Questão 6] Liste o título dos filmes que contenham a palavra \"Treasure\" em seu título\n",
    "<!--\n",
    "SELECT title FROM movies WHERE title LIKE '%Treasure%'; \n",
    "-->"
   ]
  },
  {
   "cell_type": "code",
   "execution_count": null,
   "id": "suspended-fishing",
   "metadata": {},
   "outputs": [],
   "source": []
  },
  {
   "cell_type": "markdown",
   "id": "offshore-deposit",
   "metadata": {},
   "source": [
    "## [Questão 7] Liste todos as ocupações com \"o\" na penultima posição do nome"
   ]
  },
  {
   "cell_type": "code",
   "execution_count": null,
   "id": "viral-velvet",
   "metadata": {},
   "outputs": [],
   "source": []
  },
  {
   "cell_type": "markdown",
   "id": "agreed-ridge",
   "metadata": {},
   "source": [
    "## [Questão 8] Insira dois usuários com ids 2000 e 3000 com a profissão \"Programmer\" (id 15). Escolha outros valores para os demais campos.\n",
    "\n",
    "<!--\n",
    "SELECT * FROM users WHERE id >= 2000;\n",
    "\n",
    "INSERT INTO users VALUES(2000, 35, \"M\", 15, \"123456\");\n",
    "\n",
    "INSERT INTO users VALUES(3000, 30, \"F\", 15, \"123456\");\n",
    "\n",
    "SELECT * FROM users WHERE id >= 2000;\n",
    "-->"
   ]
  },
  {
   "cell_type": "code",
   "execution_count": null,
   "id": "monthly-leonard",
   "metadata": {},
   "outputs": [],
   "source": []
  },
  {
   "cell_type": "markdown",
   "id": "forbidden-burst",
   "metadata": {},
   "source": [
    "## [Questão 9] Altere a profissão do usuário de id 3000 para \"Scientist\" (id 18)\n",
    "<!--\n",
    "SELECT * FROM users WHERE id = 3000;\n",
    "\n",
    "UPDATE users\n",
    "       SET occupation_id = 18\n",
    "       WHERE id = 3000;\n",
    "\n",
    "SELECT * FROM users WHERE id = 3000;\n",
    "-->"
   ]
  },
  {
   "cell_type": "code",
   "execution_count": null,
   "id": "statistical-large",
   "metadata": {},
   "outputs": [],
   "source": []
  },
  {
   "cell_type": "markdown",
   "id": "standing-strain",
   "metadata": {},
   "source": [
    "## [Questão 10] Delete o usuário de id 3000\n",
    "<!--\n",
    "SELECT * FROM users WHERE id = 3000;\n",
    "\n",
    "DELETE FROM users WHERE id = 3000;\n",
    "\n",
    "SELECT * FROM users WHERE id >= 2000;\n",
    "-->"
   ]
  },
  {
   "cell_type": "code",
   "execution_count": null,
   "id": "scheduled-queensland",
   "metadata": {},
   "outputs": [],
   "source": []
  },
  {
   "cell_type": "markdown",
   "id": "prescription-assessment",
   "metadata": {},
   "source": [
    "## [Questão 11] Liste todos os usuários que não fizeram nenhuma avaliação de filme\n",
    "<!--\n",
    "--SOLUÇÃO 01\n",
    "SELECT id FROM users WHERE id NOT IN (SELECT user_id FROM ratings);\n",
    "\n",
    "--SOLUÇÃO 02\n",
    "SELECT u.id FROM users u LEFT JOIN ratings r ON u.id = r.user_id WHERE r.user_id IS NULL;\n",
    "-->"
   ]
  },
  {
   "cell_type": "code",
   "execution_count": null,
   "id": "simple-memorabilia",
   "metadata": {},
   "outputs": [],
   "source": []
  },
  {
   "cell_type": "markdown",
   "id": "loving-creativity",
   "metadata": {},
   "source": [
    "## [Questão 12] Liste o título dos filmes e seus gêneros\n",
    "<!--\n",
    "SELECT m.title, g.name FROM movies m JOIN genres_movies gm ON m.id = gm.movie_id \n",
    "                                     JOIN genres g         ON g.id = gm.genre_id \n",
    "                                     LIMIT 10;\n",
    "-->"
   ]
  },
  {
   "cell_type": "code",
   "execution_count": null,
   "id": "elegant-juvenile",
   "metadata": {},
   "outputs": [],
   "source": []
  },
  {
   "cell_type": "markdown",
   "id": "eastern-denmark",
   "metadata": {},
   "source": [
    "## [Questão 13] Quantos usuários possuem a profissão \"Student\"?\n",
    "<!--\n",
    "SELECT oc.name, COUNT(*) FROM users u JOIN occupations oc ON u.occupation_id = oc.id WHERE oc.name = 'Student' GROUP BY oc.name;\n",
    "-->"
   ]
  },
  {
   "cell_type": "code",
   "execution_count": null,
   "id": "racial-ceramic",
   "metadata": {},
   "outputs": [],
   "source": []
  },
  {
   "cell_type": "markdown",
   "id": "placed-refrigerator",
   "metadata": {},
   "source": [
    "## [Questão 14] Qual são os ids dos 10 filmes mais populares?\n",
    "<!--\n",
    "SELECT movie_id, count(rating) as avaliacoes FROM ratings GROUP BY movie_id ORDER BY avaliacoes DESC LIMIT 10;\n",
    "-->"
   ]
  },
  {
   "cell_type": "code",
   "execution_count": null,
   "id": "legislative-algebra",
   "metadata": {},
   "outputs": [],
   "source": []
  },
  {
   "cell_type": "markdown",
   "id": "entire-dressing",
   "metadata": {},
   "source": [
    "## [Questão 15] Crie uma View com a média de avaliações de cada filme. A partir da view, quais os nomes dos filmes com maior média de avaliação? \n",
    "\n",
    "<!--\n",
    "CREATE OR REPLACE VIEW ratings_avg AS SELECT movie_id, AVG(rating) as media FROM ratings GROUP BY movie_id;\n",
    "\n",
    "SELECT * FROM ratings_avg ORDER BY media DESC LIMIT 20;\n",
    "\n",
    "SELECT m.title, m.id FROM ratings_avg ra JOIN movies m ON ra.movie_id = m.id WHERE ra.media IN (SELECT MAX(media) FROM ratings_avg);\n",
    "-->"
   ]
  },
  {
   "cell_type": "code",
   "execution_count": null,
   "id": "solid-chorus",
   "metadata": {},
   "outputs": [],
   "source": []
  },
  {
   "cell_type": "markdown",
   "id": "foreign-month",
   "metadata": {},
   "source": [
    "# Questões Extras\n",
    "\n",
    "O conjunto de questões abaixo não será contabilizado na sua nota. No entanto, recomenda-se fortemente que as questões sejam respondidas."
   ]
  },
  {
   "cell_type": "markdown",
   "id": "sought-interstate",
   "metadata": {},
   "source": [
    "## [Questão Extra] Quantos estudantes menores de 18 anos avaliaram filmes de terror ou crime\n",
    "<!--\n",
    "--SOLUÇÃO 1\n",
    "SELECT COUNT(DISTINCT u.id) as Quantidade FROM occupations oc JOIN users u ON u.occupation_id = oc.id \n",
    "                                                                  JOIN ratings r ON r.user_id = u.id\n",
    "                                                                  WHERE oc.name = \"Student\" AND u.age < 18 \n",
    "                                                                        AND r.movie_id IN\n",
    "                                                                          (SELECT DISTINCT m.id FROM movies m JOIN genres_movies gm ON m.id = gm.movie_id\n",
    "                                                                                                     JOIN genres g ON g.id = gm.genre_id  \n",
    "                                                                                       WHERE g.name = \"Horror\" OR g.name = \"Crime\");\n",
    "\n",
    "\n",
    "--SOLUÇÃO 2\n",
    "SELECT COUNT(DISTINCT u.id) as Quantidade FROM occupations oc JOIN users u ON u.occupation_id = oc.id \n",
    "                                                              JOIN ratings r ON r.user_id = u.id\n",
    "                                                              JOIN movies m ON r.movie_id = m.id\n",
    "                                                              JOIN genres_movies gm ON m.id = gm.movie_id\n",
    "                                                              JOIN genres g ON g.id = gm.genre_id\n",
    "                                                              WHERE oc.name = \"Student\" AND u.age < 18 AND g.name IN (\"Horror\",\"Crime\");\n",
    "                                                                        \n",
    "-->"
   ]
  },
  {
   "cell_type": "code",
   "execution_count": null,
   "id": "roman-norman",
   "metadata": {},
   "outputs": [],
   "source": []
  },
  {
   "cell_type": "markdown",
   "id": "surface-product",
   "metadata": {},
   "source": [
    "## [Questão Extra] Quais os nomes dos top 10 filmes com melhor média de avaliação considerando filmes que possuem mais de 10 avaliações?\n",
    "\n",
    "Você pode utilizar Views caso acredite ser pertinente.\n",
    "<!--\n",
    "--SOLUÇÃO 01 - JOIN VIEWS\n",
    "CREATE OR REPLACE VIEW top_movies AS SELECT movie_id, count(rating) as avaliacoes FROM ratings GROUP BY movie_id;\n",
    "\n",
    "SELECT  m.id as id, m.title as title, ra.media as media, tm.avaliacoes as avaliacoes\n",
    "FROM ratings_avg ra JOIN top_movies tm ON ra.movie_id = tm.movie_id\n",
    "JOIN movies m ON tm.movie_id = m.id\n",
    "WHERE tm.avaliacoes >10\n",
    "ORDER BY media DESC\n",
    "LIMIT 10;\n",
    "\n",
    "-- SOLUÇÃO 02 - HAVING\n",
    "SELECT r.movie_id, m.title, AVG(r.rating) as rating_avg, COUNT(r.rating) as rating_count\n",
    "FROM ratings r JOIN movies m ON r.movie_id = m.id\n",
    "GROUP BY r.movie_id, m.title\n",
    "HAVING rating_count > 10\n",
    "ORDER BY rating_avg DESC\n",
    "LIMIT 10;\n",
    "-->"
   ]
  },
  {
   "cell_type": "code",
   "execution_count": null,
   "id": "civic-earthquake",
   "metadata": {},
   "outputs": [],
   "source": []
  },
  {
   "cell_type": "markdown",
   "id": "invisible-starter",
   "metadata": {},
   "source": [
    "## [Questão Extra] Quais estudantes avaliaram filmes que possuem a palavra \"Man\" em seu título?\n",
    "<!--\n",
    "SELECT DISTINCT u.id as user_id, oc.name as occupation FROM occupations oc JOIN users u ON u.occupation_id = oc.id \n",
    "                                                                  JOIN ratings r ON r.user_id = u.id\n",
    "                                                                  JOIN movies m ON m.id = r.movie_id\n",
    "                                                                  WHERE oc.name = \"Student\" AND m.title LIKE \"%Man%\"\n",
    "                                                                  LIMIT 10;\n",
    "-->"
   ]
  },
  {
   "cell_type": "code",
   "execution_count": null,
   "id": "level-hostel",
   "metadata": {},
   "outputs": [],
   "source": []
  },
  {
   "cell_type": "markdown",
   "id": "extra-drilling",
   "metadata": {},
   "source": [
    "## [Questão Extra] Com base na questão 15, retorne em apenas uma consulta, todos os nomes de filmes com a maior ou menor média de avaliação.\n",
    "\n",
    "<!--\n",
    "SELECT m.*, ra.media FROM movies m JOIN ratings_avg ra ON m.id = ra.movie_id\n",
    "WHERE ra.media IN\n",
    "(SELECT MAX(media) FROM ratings_avg\n",
    "UNION\n",
    "SELECT MIN(media) FROM ratings_avg);\n",
    "-->"
   ]
  },
  {
   "cell_type": "code",
   "execution_count": null,
   "id": "aerial-western",
   "metadata": {},
   "outputs": [],
   "source": []
  },
  {
   "cell_type": "markdown",
   "id": "basic-exercise",
   "metadata": {},
   "source": [
    "# Desafio"
   ]
  },
  {
   "cell_type": "markdown",
   "id": "smoking-replacement",
   "metadata": {},
   "source": [
    "## [Desafio - Parte 1] Como ficaria o modelo lógico do banco de dados para que fosse possível implementar a seguinte funcionalidade: \"usuários podem ser amigos de outros usuários\"?"
   ]
  },
  {
   "cell_type": "code",
   "execution_count": null,
   "id": "integrated-longer",
   "metadata": {},
   "outputs": [],
   "source": []
  },
  {
   "cell_type": "markdown",
   "id": "geographic-burton",
   "metadata": {},
   "source": [
    "## [Desafio Parte 2] Crie comandos SQL para popular o seu banco de dados inserindo amizades entre usuários."
   ]
  },
  {
   "cell_type": "code",
   "execution_count": null,
   "id": "institutional-torture",
   "metadata": {},
   "outputs": [],
   "source": []
  },
  {
   "cell_type": "markdown",
   "id": "manufactured-connectivity",
   "metadata": {},
   "source": [
    "## [Desafio Parte 3] Quais são os filmes avaliados pelos amigos dos amigos do usuário de id 1? \n",
    "\n",
    "Se for necessário, crie comandos SQL para popular o seu banco de dados para adicionar amigos ao usuário de id 1 e outros usuários"
   ]
  },
  {
   "cell_type": "code",
   "execution_count": null,
   "id": "insured-bailey",
   "metadata": {},
   "outputs": [],
   "source": []
  }
 ],
 "metadata": {
  "kernelspec": {
   "display_name": "MariaDB",
   "language": "SQL",
   "name": "mariadb_kernel"
  },
  "language_info": {
   "file_extension": ".sql",
   "mimetype": "text/plain",
   "name": "SQL"
  }
 },
 "nbformat": 4,
 "nbformat_minor": 5
}
