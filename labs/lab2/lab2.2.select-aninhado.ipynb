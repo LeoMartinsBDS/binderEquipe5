{
 "cells": [
  {
   "cell_type": "markdown",
   "metadata": {
    "toc-hr-collapsed": false
   },
   "source": [
    "# SELECT Aninhado\n",
    "\n",
    "Ativando uma conexão de banco de dados em memória usando o SGBD H2:"
   ]
  },
  {
   "cell_type": "markdown",
   "metadata": {},
   "source": [
    "## Exemplo dos Táxis\n",
    "\n",
    "Baseado no exemplo criado por prof. Geovane Cayres Magalhães http://www.ic.unicamp.br/~geovane/mo410-091/caso.html"
   ]
  },
  {
   "cell_type": "code",
   "execution_count": null,
   "metadata": {},
   "outputs": [],
   "source": [
    "drop database if exists taxis;\n",
    "create database if not exists taxis;"
   ]
  },
  {
   "cell_type": "code",
   "execution_count": null,
   "metadata": {},
   "outputs": [],
   "source": [
    "show databases;"
   ]
  },
  {
   "cell_type": "code",
   "execution_count": null,
   "metadata": {},
   "outputs": [],
   "source": [
    "USE taxis;"
   ]
  },
  {
   "cell_type": "markdown",
   "metadata": {},
   "source": [
    "## Primeiro conjunto de tabelas para consultas básicas"
   ]
  },
  {
   "cell_type": "code",
   "execution_count": null,
   "metadata": {},
   "outputs": [],
   "source": [
    "DROP TABLE IF EXISTS Taxi;\n",
    "DROP TABLE IF EXISTS Cliente;\n",
    "DROP TABLE IF EXISTS Corrida;\n",
    "\n",
    "CREATE TABLE Taxi (\n",
    "  Placa VARCHAR(7) NOT NULL,\n",
    "  Marca VARCHAR(30) NOT NULL,\n",
    "  Modelo VARCHAR(30) NOT NULL,\n",
    "  AnoFab INTEGER,\n",
    "  Licenca VARCHAR(9),\n",
    "  PRIMARY KEY(Placa)\n",
    ");\n",
    "\n",
    "CREATE TABLE Cliente (\n",
    "  CliId VARCHAR(4) NOT NULL,\n",
    "  Nome VARCHAR(80) NOT NULL,\n",
    "  CPF VARCHAR(14) NOT NULL,\n",
    "  PRIMARY KEY(CliId)\n",
    ");\n",
    "\n",
    "CREATE TABLE Corrida (\n",
    "  CliId VARCHAR(4) NOT NULL,\n",
    "  Placa VARCHAR(7) NOT NULL,\n",
    "  DataPedido DATE NOT NULL,\n",
    "  PRIMARY KEY(CliId, Placa, DataPedido),\n",
    "  FOREIGN KEY(CliId)\n",
    "    REFERENCES Cliente(CliId)\n",
    "      ON DELETE NO ACTION\n",
    "      ON UPDATE NO ACTION,\n",
    "  FOREIGN KEY(Placa)\n",
    "    REFERENCES Taxi(Placa)\n",
    "      ON DELETE NO ACTION\n",
    "      ON UPDATE NO ACTION\n",
    ");"
   ]
  },
  {
   "cell_type": "code",
   "execution_count": null,
   "metadata": {},
   "outputs": [],
   "source": [
    "INSERT INTO Cliente VALUES ('1532', 'Asdrúbal', '448.754.253-65');\n",
    "INSERT INTO Cliente VALUES ('1755', 'Doriana', '567.387.387-44');\n",
    "INSERT INTO Cliente VALUES ('1780', 'Quincas', '546.373.762-02');\n",
    "\n",
    "INSERT INTO Taxi VALUES ('DAE6534', 'Ford', 'Fiesta', 1999, 'MN572345');\n",
    "INSERT INTO Taxi VALUES ('DKL4598', 'Wolkswagen', 'Gol', 2001, 'AU876543');\n",
    "INSERT INTO Taxi VALUES ('DKL7878', 'Ford', 'Fiesta', 2001, 'OP102938');\n",
    "INSERT INTO Taxi VALUES ('JDM8776', 'Wolkswagen', 'Santana', 2002, 'QM365923');\n",
    "INSERT INTO Taxi VALUES ('JJM3692', 'Chevrolet', 'Corsa', 1999, 'UU335577');\n",
    "\n",
    "INSERT INTO Corrida VALUES ('1755', 'DAE6534', '2003-02-15');\n",
    "INSERT INTO Corrida VALUES ('1780', 'JDM8776', '2003-02-18');\n",
    "INSERT INTO Corrida VALUES ('1755', 'DKL7878', '2003-02-16');\n",
    "INSERT INTO Corrida VALUES ('1780', 'DKL4598', '2003-02-17');\n",
    "INSERT INTO Corrida VALUES ('1532', 'DKL4598', '2003-02-18');\n",
    "INSERT INTO Corrida VALUES ('1780', 'DAE6534', '2003-02-16');"
   ]
  },
  {
   "cell_type": "markdown",
   "metadata": {},
   "source": [
    "## Segundo conjunto de tabelas para consultas avançadas"
   ]
  },
  {
   "cell_type": "code",
   "execution_count": null,
   "metadata": {},
   "outputs": [],
   "source": [
    "DROP TABLE IF EXISTS Motorista;\n",
    "DROP TABLE IF EXISTS Zona;\n",
    "DROP TABLE IF EXISTS Fila;\n",
    "\n",
    "CREATE TABLE Motorista (\n",
    "  CNH VARCHAR(6) NOT NULL,\n",
    "  Nome VARCHAR(80) NOT NULL,\n",
    "  CNHValid INTEGER,\n",
    "  Placa VARCHAR(7) NOT NULL,\n",
    "  PRIMARY KEY(CNH),\n",
    "  FOREIGN KEY(Placa)\n",
    "    REFERENCES Taxi(Placa)\n",
    "      ON DELETE NO ACTION\n",
    "      ON UPDATE NO ACTION\n",
    ");\n",
    "\n",
    "CREATE TABLE Zona (\n",
    "  Zona VARCHAR(40) NOT NULL,\n",
    "  PRIMARY KEY(Zona)\n",
    ");\n",
    "\n",
    "CREATE TABLE Fila (\n",
    "   Zona VARCHAR(40) NOT NULL,\n",
    "   CNH VARCHAR(6) NOT NULL,\n",
    "   DataHoraIn TIMESTAMP,\n",
    "   DataHoraOut TIMESTAMP,\n",
    "   KmIn INTEGER,\n",
    "   PRIMARY KEY (Zona, CNH),\n",
    "   FOREIGN KEY(Zona)\n",
    "     REFERENCES Zona(Zona)\n",
    "       ON DELETE NO ACTION\n",
    "       ON UPDATE NO ACTION,\n",
    "   FOREIGN KEY(CNH)\n",
    "     REFERENCES Motorista(CNH)\n",
    "       ON DELETE NO ACTION\n",
    "       ON UPDATE NO ACTION\n",
    ");"
   ]
  },
  {
   "cell_type": "code",
   "execution_count": null,
   "metadata": {},
   "outputs": [],
   "source": [
    "INSERT INTO Taxi VALUES ('DXF5263', 'Ford', 'Escort', 2001, 'GG5263526');\n",
    "INSERT INTO Taxi VALUES ('MJN6578', 'Wolkswagen', 'Santana', 1998, 'KL856326');\n",
    "INSERT INTO Taxi VALUES ('MLA4545', 'Wolkswagen', 'Gol', 2000, 'YK6574837');\n",
    "INSERT INTO Taxi VALUES ('DXA7878', 'Ford', 'Escort', 2000, 'GG5263526');\n",
    "INSERT INTO Taxi VALUES ('DXF6767', 'Wolkswagen', 'Santana', 1998, 'YK7890081');\n",
    "INSERT INTO Taxi VALUES ('DXF6868', 'Wolkswagen', 'Santana', 1998, 'YK7890082');\n",
    "\n",
    "INSERT INTO Motorista VALUES ('657483', 'Asdrubal', 1, 'DXF5263');\n",
    "INSERT INTO Motorista VALUES ('567892', 'Quincas', 1, 'MLA4545');\n",
    "INSERT INTO Motorista VALUES ('452635', 'Zandor', 1, 'DXA7878');\n",
    "INSERT INTO Motorista VALUES ('452452', 'Alcebiades', 1, 'DXF6767');\n",
    "INSERT INTO Motorista VALUES ('555555', 'Bonerges', 1, 'DAE6534');\n",
    "INSERT INTO Motorista VALUES ('987654', 'Doriana', 1, 'JDM8776');\n",
    "INSERT INTO Motorista VALUES ('389204', 'Melissa', 1, 'DXF6868');\n",
    "\n",
    "INSERT INTO Zona VALUES ('Barão Geraldo');\n",
    "INSERT INTO Zona VALUES ('Cambuí');\n",
    "INSERT INTO Zona VALUES ('Taquaral');\n",
    "INSERT INTO Zona VALUES ('Unicamp');\n",
    "\n",
    "INSERT INTO Fila VALUES ('Barão Geraldo', '567892', '2002-06-05 09:00:00', '2002-06-05 09:30:00', 4630);\n",
    "INSERT INTO Fila VALUES ('Barão Geraldo', '657483', '2002-06-05 07:30:00', '2002-06-05 07:45:00', 1567);\n",
    "INSERT INTO Fila VALUES ('Taquaral', '452452', '2002-06-05 09:00:00', '2002-06-05 09:50:00', 5000);\n",
    "INSERT INTO Fila VALUES ('Taquaral', '657483', '2002-06-06 08:00:00', '2002-06-06 08:07:00', 7900);\n",
    "INSERT INTO Fila VALUES ('Unicamp', '452635', '2002-06-02 08:00:00', '2002-06-02 08:00:00', 4800);\n",
    "INSERT INTO Fila VALUES ('Unicamp', '567892', '2002-06-06 06:00:00', '2002-06-06 06:00:00', 5263);\n",
    "INSERT INTO Fila VALUES ('Unicamp', '657483', '2002-06-06 23:00:00', '2002-06-06 23:00:00', 4541);\n",
    "INSERT INTO Fila VALUES ('Unicamp', '452452', '2002-06-05 10:30:00', '2002-06-05 10:30:00', 7800);\n",
    "INSERT INTO Fila VALUES ('Taquaral', '555555', '2002-06-06 08:10:00', '2002-06-06 08:10:00', 7910);\n",
    "INSERT INTO Fila VALUES ('Unicamp', '987654', '2002-06-05 10:30:00', '2002-06-05 10:35:00', 7850);"
   ]
  },
  {
   "cell_type": "markdown",
   "metadata": {},
   "source": [
    "## Filas de Taxis"
   ]
  },
  {
   "cell_type": "code",
   "execution_count": null,
   "metadata": {},
   "outputs": [],
   "source": [
    "SELECT * FROM Fila F;"
   ]
  },
  {
   "cell_type": "markdown",
   "metadata": {
    "toc-hr-collapsed": false
   },
   "source": [
    "# Aninhamento de consulta\n",
    "\n",
    "### Todas as Zonas disponíveis"
   ]
  },
  {
   "cell_type": "code",
   "execution_count": null,
   "metadata": {},
   "outputs": [],
   "source": [
    "SELECT Z.zona\n",
    "       FROM Zona Z;"
   ]
  },
  {
   "cell_type": "markdown",
   "metadata": {},
   "source": [
    "### Somente Zonas que receberam algum taxi na fila (sem aninhamento)"
   ]
  },
  {
   "cell_type": "code",
   "execution_count": null,
   "metadata": {},
   "outputs": [],
   "source": [
    "SELECT DISTINCT F.zona\n",
    "       FROM Fila F;"
   ]
  },
  {
   "cell_type": "markdown",
   "metadata": {},
   "source": [
    "## Aninhando com IN / NOT IN"
   ]
  },
  {
   "cell_type": "markdown",
   "metadata": {},
   "source": [
    "### Somente Zonas que receberam algum taxi na fila (com aninhamento / IN)"
   ]
  },
  {
   "cell_type": "code",
   "execution_count": null,
   "metadata": {},
   "outputs": [],
   "source": [
    "SELECT Z.zona\n",
    "FROM Zona Z\n",
    "WHERE Z.zona IN (SELECT DISTINCT F.zona FROM Fila F);"
   ]
  },
  {
   "cell_type": "markdown",
   "metadata": {},
   "source": [
    "### Zonas que não receberam algum taxi na fila (com aninhamento / NOT IN)"
   ]
  },
  {
   "cell_type": "code",
   "execution_count": null,
   "metadata": {},
   "outputs": [],
   "source": [
    "SELECT Z.zona\n",
    "FROM Zona Z\n",
    "WHERE Z.zona NOT IN (SELECT DISTINCT F.zona FROM Fila F);"
   ]
  },
  {
   "cell_type": "markdown",
   "metadata": {},
   "source": [
    "## Aninhando com EXISTS / NOT EXISTS"
   ]
  },
  {
   "cell_type": "markdown",
   "metadata": {},
   "source": [
    "### Somente Zonas que receberam algum taxi na fila (com aninhamento / EXISTS)"
   ]
  },
  {
   "cell_type": "code",
   "execution_count": null,
   "metadata": {},
   "outputs": [],
   "source": [
    "SELECT Z.zona\n",
    "FROM Zona Z\n",
    "WHERE EXISTS (SELECT * FROM Fila F WHERE F.zona = Z.zona);"
   ]
  },
  {
   "cell_type": "markdown",
   "metadata": {},
   "source": [
    "### Zonas que não receberam algum taxi na fila (com aninhamento / NOT EXISTS)"
   ]
  },
  {
   "cell_type": "code",
   "execution_count": null,
   "metadata": {},
   "outputs": [],
   "source": [
    "SELECT Z.zona\n",
    "FROM Zona Z\n",
    "WHERE NOT EXISTS (SELECT * FROM Fila F WHERE F.zona = Z.zona);"
   ]
  },
  {
   "cell_type": "markdown",
   "metadata": {},
   "source": [
    "## Exemplo com aninhamento e Modelo\n",
    "\n",
    "### Taxis modelo Fiesta"
   ]
  },
  {
   "cell_type": "code",
   "execution_count": null,
   "metadata": {},
   "outputs": [],
   "source": [
    "SELECT T.placa, T.modelo FROM Taxi T WHERE T.modelo = 'Fiesta';"
   ]
  },
  {
   "cell_type": "markdown",
   "metadata": {},
   "source": [
    "### Nome dos clientes que andaram nos taxis modelo Fiesta (sem aninhamento)"
   ]
  },
  {
   "cell_type": "code",
   "execution_count": null,
   "metadata": {},
   "outputs": [],
   "source": [
    "SELECT DISTINCT Cl.nome\n",
    "FROM Cliente Cl, Corrida Co, Taxi Tx\n",
    "WHERE Cl.cliid = Co.cliid AND Co.placa = Tx.placa AND\n",
    "      Tx.modelo = 'Fiesta';"
   ]
  },
  {
   "cell_type": "markdown",
   "metadata": {},
   "source": [
    "### Nome dos clientes que andaram nos taxis modelo Fiesta (com aninhamento)"
   ]
  },
  {
   "cell_type": "code",
   "execution_count": null,
   "metadata": {},
   "outputs": [],
   "source": [
    "SELECT DISTINCT Cl.nome\n",
    "FROM Cliente Cl, Corrida Co\n",
    "WHERE Cl.cliid = Co.cliid AND\n",
    "      Co.placa IN (SELECT Tx.placa FROM Taxi Tx\n",
    "                   WHERE Tx.modelo = 'Fiesta');"
   ]
  },
  {
   "cell_type": "markdown",
   "metadata": {},
   "source": [
    "## Comparação com SELECT aninhado"
   ]
  },
  {
   "cell_type": "markdown",
   "metadata": {},
   "source": [
    "### Nome dos clientes que andaram no taxi dirigido por Bonerges"
   ]
  },
  {
   "cell_type": "code",
   "execution_count": null,
   "metadata": {},
   "outputs": [],
   "source": [
    "SELECT DISTINCT Cl.nome\n",
    "FROM Cliente Cl, Corrida Co\n",
    "WHERE Cl.cliid = Co.cliid AND\n",
    "      Co.placa = (SELECT Tx.placa\n",
    "                  FROM Taxi Tx, Motorista Mo\n",
    "                  WHERE Tx.placa = Mo.placa AND\n",
    "                        Mo.nome = 'Bonerges');"
   ]
  },
  {
   "cell_type": "markdown",
   "metadata": {},
   "source": [
    "### Taxis que entraram na fila antes da primeira entrada de Alcebiades"
   ]
  },
  {
   "cell_type": "code",
   "execution_count": null,
   "metadata": {},
   "outputs": [],
   "source": [
    "SELECT Mo.placa, Fi.datahorain\n",
    "FROM Motorista Mo, Fila Fi\n",
    "WHERE Mo.cnh = Fi.cnh AND\n",
    "      Fi.datahorain < (SELECT MIN(F.datahorain)\n",
    "                       FROM Motorista M, Fila F\n",
    "                       WHERE M.cnh = F.cnh AND\n",
    "                             M.nome = 'Alcebiades');"
   ]
  },
  {
   "cell_type": "markdown",
   "metadata": {},
   "source": [
    "### Horários de entrada de motoristas em todas as filas"
   ]
  },
  {
   "cell_type": "code",
   "execution_count": null,
   "metadata": {},
   "outputs": [],
   "source": [
    "SELECT datahorain FROM Fila;"
   ]
  },
  {
   "cell_type": "markdown",
   "metadata": {},
   "source": [
    "## Comparação usando ALL / ANY"
   ]
  },
  {
   "cell_type": "markdown",
   "metadata": {},
   "source": [
    "### Quem foi o primeiro motorista a entrar em alguma fila (independentemente da fila)"
   ]
  },
  {
   "cell_type": "code",
   "execution_count": null,
   "metadata": {},
   "outputs": [],
   "source": [
    "SELECT Mo.nome, Fi.datahorain\n",
    "FROM Motorista Mo, Fila Fi\n",
    "WHERE Mo.cnh = Fi.cnh AND\n",
    "      Fi.datahorain <= ALL (SELECT datahorain FROM Fila);"
   ]
  },
  {
   "cell_type": "markdown",
   "metadata": {},
   "source": [
    "### Quem foi o primeiro motorista a entrar na fila de cada uma das zonas"
   ]
  },
  {
   "cell_type": "code",
   "execution_count": null,
   "metadata": {},
   "outputs": [],
   "source": [
    "SELECT Mo.nome, Fi_externa.zona, Fi_externa.datahorain\n",
    "FROM Motorista Mo, Fila Fi_externa\n",
    "WHERE Mo.cnh = Fi_externa.cnh AND\n",
    "      Fi_externa.datahorain <= ALL (SELECT Fi_interna.datahorain\n",
    "                                    FROM Fila Fi_interna\n",
    "                                    WHERE Fi_externa.zona = Fi_interna.zona);"
   ]
  },
  {
   "cell_type": "markdown",
   "metadata": {},
   "source": [
    "### Quem não foi o primeiro motorista a entrar na fila de cada uma das zonas"
   ]
  },
  {
   "cell_type": "code",
   "execution_count": null,
   "metadata": {},
   "outputs": [],
   "source": [
    "SELECT Mo.nome, Fi_externa.zona, Fi_externa.datahorain\n",
    "FROM Motorista Mo, Fila Fi_externa\n",
    "WHERE Mo.cnh = Fi_externa.cnh AND\n",
    "      Fi_externa.datahorain > ANY (SELECT Fi_interna.datahorain\n",
    "                                   FROM Fila Fi_interna\n",
    "                                   WHERE Fi_externa.zona = Fi_interna.zona)\n",
    "ORDER BY Fi_externa.zona;"
   ]
  },
  {
   "cell_type": "markdown",
   "metadata": {},
   "source": [
    "## SELECT como Tabela Aninhada"
   ]
  },
  {
   "cell_type": "markdown",
   "metadata": {},
   "source": [
    "### Média de Táxis por Zona\n",
    "\n",
    "Considere o seguinte SELECT que computa o número de táxis na fila de cada zona."
   ]
  },
  {
   "cell_type": "code",
   "execution_count": null,
   "metadata": {},
   "outputs": [],
   "source": [
    "SELECT F.zona, COUNT(*) n_taxis\n",
    "       FROM Fila F\n",
    "       GROUP BY F.zona;"
   ]
  },
  {
   "cell_type": "markdown",
   "metadata": {},
   "source": [
    "Este SELECT pode ser transformado em uma tabela de um outro SELECT que calcula a média."
   ]
  },
  {
   "cell_type": "code",
   "execution_count": null,
   "metadata": {},
   "outputs": [],
   "source": [
    "SELECT AVG(FT.n_taxis)\n",
    "       FROM (SELECT F.zona, COUNT(*) n_taxis\n",
    "             FROM Fila F\n",
    "             GROUP BY F.zona) FT;"
   ]
  },
  {
   "cell_type": "markdown",
   "metadata": {},
   "source": [
    "# Aninhamento na Atualização (`UPDATE/SELECT`)\n",
    "\n",
    "O SELECT aninhado pode ser parte de uma operação de UPDATE.\n",
    "\n",
    "Considere as relações de todos os motoristas e aqueles que estão na fila. Note que todos os motoristas têm CNH válido."
   ]
  },
  {
   "cell_type": "code",
   "execution_count": null,
   "metadata": {},
   "outputs": [],
   "source": [
    "-- Todos os Motoristas\n",
    "SELECT M.CNH, M.CNHValid\n",
    "       FROM Motorista M;\n",
    "-- Motoristas na Fila\n",
    "SELECT DISTINCT F.CNH\n",
    "       FROM Fila F;"
   ]
  },
  {
   "cell_type": "markdown",
   "metadata": {},
   "source": [
    "A seguinte consulta retorna aqueles motoristas que não estão em nenhuma fila."
   ]
  },
  {
   "cell_type": "code",
   "execution_count": null,
   "metadata": {},
   "outputs": [],
   "source": [
    "SELECT M.CNH\n",
    "       FROM Motorista M\n",
    "       WHERE M.CNH NOT IN (\n",
    "           SELECT DISTINCT F.CNH\n",
    "           FROM Fila F);"
   ]
  },
  {
   "cell_type": "markdown",
   "metadata": {},
   "source": [
    "Usando o UPDATE com SELECT aninhado, é possível invalidar o CNH de todos os motoristas que não aparecem em nenhuma fila."
   ]
  },
  {
   "cell_type": "code",
   "execution_count": null,
   "metadata": {},
   "outputs": [],
   "source": [
    "UPDATE Motorista M\n",
    "       SET M.CNHValid = 0\n",
    "       WHERE M.CNH NOT IN (\n",
    "           SELECT DISTINCT F.CNH\n",
    "           FROM Fila F);\n",
    "\n",
    "SELECT * FROM Motorista;"
   ]
  },
  {
   "cell_type": "markdown",
   "metadata": {},
   "source": [
    "# Aninhamento na Exclusão (`DELETE/SELECT`)"
   ]
  },
  {
   "cell_type": "code",
   "execution_count": null,
   "metadata": {},
   "outputs": [],
   "source": [
    "DELETE FROM Motorista  \n",
    "WHERE Motorista.CNH NOT IN (          \n",
    "                            SELECT DISTINCT F.CNH            \n",
    "                            FROM Fila as F\n",
    "); \n",
    "           \n",
    "SELECT * FROM Motorista;"
   ]
  },
  {
   "cell_type": "code",
   "execution_count": null,
   "metadata": {},
   "outputs": [],
   "source": [
    "SELECT * FROM Motorista;"
   ]
  }
 ],
 "metadata": {
  "kernelspec": {
   "display_name": "MariaDB",
   "language": "SQL",
   "name": "mariadb_kernel"
  },
  "language_info": {
   "file_extension": ".sql",
   "mimetype": "text/plain",
   "name": "SQL"
  },
  "toc": {
   "base_numbering": 1,
   "nav_menu": {},
   "number_sections": false,
   "sideBar": false,
   "skip_h1_title": false,
   "title_cell": "Table of Contents",
   "title_sidebar": "Contents",
   "toc_cell": false,
   "toc_position": {},
   "toc_section_display": false,
   "toc_window_display": false
  }
 },
 "nbformat": 4,
 "nbformat_minor": 4
}
