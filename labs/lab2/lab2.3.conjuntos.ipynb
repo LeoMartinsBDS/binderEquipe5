{
 "cells": [
  {
   "cell_type": "code",
   "execution_count": null,
   "metadata": {},
   "outputs": [],
   "source": [
    "show databases;\n",
    "USE taxis;"
   ]
  },
  {
   "cell_type": "code",
   "execution_count": null,
   "metadata": {},
   "outputs": [],
   "source": [
    "drop database if exists taxis;\n",
    "create database if not exists taxis;"
   ]
  },
  {
   "cell_type": "code",
   "execution_count": null,
   "metadata": {},
   "outputs": [],
   "source": [
    "show databases;"
   ]
  },
  {
   "cell_type": "code",
   "execution_count": null,
   "metadata": {},
   "outputs": [],
   "source": [
    "USE taxis;"
   ]
  },
  {
   "cell_type": "markdown",
   "metadata": {},
   "source": [
    "# Primeiro conjunto de tabelas para consultas básicas"
   ]
  },
  {
   "cell_type": "code",
   "execution_count": null,
   "metadata": {},
   "outputs": [],
   "source": [
    "DROP TABLE IF EXISTS Taxi;\n",
    "DROP TABLE IF EXISTS Cliente;\n",
    "DROP TABLE IF EXISTS Corrida;\n",
    "\n",
    "CREATE TABLE Taxi (\n",
    "  Placa VARCHAR(7) NOT NULL,\n",
    "  Marca VARCHAR(30) NOT NULL,\n",
    "  Modelo VARCHAR(30) NOT NULL,\n",
    "  AnoFab INTEGER,\n",
    "  Licenca VARCHAR(9),\n",
    "  PRIMARY KEY(Placa)\n",
    ");\n",
    "\n",
    "CREATE TABLE Cliente (\n",
    "  CliId VARCHAR(4) NOT NULL,\n",
    "  Nome VARCHAR(80) NOT NULL,\n",
    "  CPF VARCHAR(14) NOT NULL,\n",
    "  PRIMARY KEY(CliId)\n",
    ");\n",
    "\n",
    "CREATE TABLE Corrida (\n",
    "  CliId VARCHAR(4) NOT NULL,\n",
    "  Placa VARCHAR(7) NOT NULL,\n",
    "  DataPedido DATE NOT NULL,\n",
    "  PRIMARY KEY(CliId, Placa, DataPedido),\n",
    "  FOREIGN KEY(CliId)\n",
    "    REFERENCES Cliente(CliId)\n",
    "      ON DELETE NO ACTION\n",
    "      ON UPDATE NO ACTION,\n",
    "  FOREIGN KEY(Placa)\n",
    "    REFERENCES Taxi(Placa)\n",
    "      ON DELETE NO ACTION\n",
    "      ON UPDATE NO ACTION\n",
    ");"
   ]
  },
  {
   "cell_type": "code",
   "execution_count": null,
   "metadata": {},
   "outputs": [],
   "source": [
    "INSERT INTO Cliente VALUES ('1532', 'Asdrúbal', '448.754.253-65');\n",
    "INSERT INTO Cliente VALUES ('1755', 'Doriana', '567.387.387-44');\n",
    "INSERT INTO Cliente VALUES ('1780', 'Quincas', '546.373.762-02');\n",
    "\n",
    "INSERT INTO Taxi VALUES ('DAE6534', 'Ford', 'Fiesta', 1999, 'MN572345');\n",
    "INSERT INTO Taxi VALUES ('DKL4598', 'Wolkswagen', 'Gol', 2001, 'AU876543');\n",
    "INSERT INTO Taxi VALUES ('DKL7878', 'Ford', 'Fiesta', 2001, 'OP102938');\n",
    "INSERT INTO Taxi VALUES ('JDM8776', 'Wolkswagen', 'Santana', 2002, 'QM365923');\n",
    "INSERT INTO Taxi VALUES ('JJM3692', 'Chevrolet', 'Corsa', 1999, 'UU335577');\n",
    "\n",
    "INSERT INTO Corrida VALUES ('1755', 'DAE6534', '2003-02-15');\n",
    "INSERT INTO Corrida VALUES ('1780', 'JDM8776', '2003-02-18');\n",
    "INSERT INTO Corrida VALUES ('1755', 'DKL7878', '2003-02-16');\n",
    "INSERT INTO Corrida VALUES ('1780', 'DKL4598', '2003-02-17');\n",
    "INSERT INTO Corrida VALUES ('1532', 'DKL4598', '2003-02-18');\n",
    "INSERT INTO Corrida VALUES ('1780', 'DAE6534', '2003-02-16');"
   ]
  },
  {
   "cell_type": "markdown",
   "metadata": {},
   "source": [
    "# Segundo conjunto de tabelas para consultas avançadas"
   ]
  },
  {
   "cell_type": "code",
   "execution_count": null,
   "metadata": {},
   "outputs": [],
   "source": [
    "DROP TABLE IF EXISTS Motorista;\n",
    "DROP TABLE IF EXISTS Zona;\n",
    "DROP TABLE IF EXISTS Fila;\n",
    "\n",
    "CREATE TABLE Motorista (\n",
    "  CNH VARCHAR(6) NOT NULL,\n",
    "  Nome VARCHAR(80) NOT NULL,\n",
    "  CNHValid INTEGER,\n",
    "  Placa VARCHAR(7) NOT NULL,\n",
    "  PRIMARY KEY(CNH),\n",
    "  FOREIGN KEY(Placa)\n",
    "    REFERENCES Taxi(Placa)\n",
    "      ON DELETE NO ACTION\n",
    "      ON UPDATE NO ACTION\n",
    ");\n",
    "\n",
    "CREATE TABLE Zona (\n",
    "  Zona VARCHAR(40) NOT NULL,\n",
    "  PRIMARY KEY(Zona)\n",
    ");\n",
    "\n",
    "CREATE TABLE Fila (\n",
    "   Zona VARCHAR(40) NOT NULL,\n",
    "   CNH VARCHAR(6) NOT NULL,\n",
    "   DataHoraIn TIMESTAMP,\n",
    "   DataHoraOut TIMESTAMP,\n",
    "   KmIn INTEGER,\n",
    "   PRIMARY KEY (Zona, CNH),\n",
    "   FOREIGN KEY(Zona)\n",
    "     REFERENCES Zona(Zona)\n",
    "       ON DELETE NO ACTION\n",
    "       ON UPDATE NO ACTION,\n",
    "   FOREIGN KEY(CNH)\n",
    "     REFERENCES Motorista(CNH)\n",
    "       ON DELETE NO ACTION\n",
    "       ON UPDATE NO ACTION\n",
    ");"
   ]
  },
  {
   "cell_type": "code",
   "execution_count": null,
   "metadata": {},
   "outputs": [],
   "source": [
    "INSERT INTO Taxi VALUES ('DXF5263', 'Ford', 'Escort', 2001, 'GG5263526');\n",
    "INSERT INTO Taxi VALUES ('MJN6578', 'Wolkswagen', 'Santana', 1998, 'KL856326');\n",
    "INSERT INTO Taxi VALUES ('MLA4545', 'Wolkswagen', 'Gol', 2000, 'YK6574837');\n",
    "INSERT INTO Taxi VALUES ('DXA7878', 'Ford', 'Escort', 2000, 'GG5263526');\n",
    "INSERT INTO Taxi VALUES ('DXF6767', 'Wolkswagen', 'Santana', 1998, 'YK7890081');\n",
    "\n",
    "INSERT INTO Motorista VALUES ('657483', 'Asdrubal', 1, 'DXF5263');\n",
    "INSERT INTO Motorista VALUES ('567892', 'Quincas', 1, 'MLA4545');\n",
    "INSERT INTO Motorista VALUES ('452635', 'Zandor', 1, 'DXA7878');\n",
    "INSERT INTO Motorista VALUES ('452452', 'Alcebiades', 1, 'DXF6767');\n",
    "INSERT INTO Motorista VALUES ('555555', 'Bonerges', 1, 'DAE6534');\n",
    "INSERT INTO Motorista VALUES ('987654', 'Doriana', 1, 'JDM8776');\n",
    "\n",
    "INSERT INTO Zona VALUES ('Barão Geraldo');\n",
    "INSERT INTO Zona VALUES ('Cambuí');\n",
    "INSERT INTO Zona VALUES ('Taquaral');\n",
    "INSERT INTO Zona VALUES ('Unicamp');\n",
    "\n",
    "INSERT INTO Fila VALUES ('Barão Geraldo', '567892', '2002-06-05 09:00:00', '2002-06-05 09:30:00', 4630);\n",
    "INSERT INTO Fila VALUES ('Barão Geraldo', '657483', '2002-06-05 07:30:00', '2002-06-05 07:45:00', 1567);\n",
    "INSERT INTO Fila VALUES ('Taquaral', '452452', '2002-06-05 09:00:00', '2002-06-05 09:50:00', 5000);\n",
    "INSERT INTO Fila VALUES ('Taquaral', '657483', '2002-06-06 08:00:00', '2002-06-06 08:07:00', 7900);\n",
    "INSERT INTO Fila VALUES ('Unicamp', '452635', '2002-06-02 08:00:00', '2002-06-02 08:00:00', 4800);\n",
    "INSERT INTO Fila VALUES ('Unicamp', '567892', '2002-06-06 06:00:00', '2002-06-06 06:00:00', 5263);\n",
    "INSERT INTO Fila VALUES ('Unicamp', '657483', '2002-06-06 23:00:00', '2002-06-06 23:00:00', 4541);\n",
    "INSERT INTO Fila VALUES ('Unicamp', '452452', '2002-06-05 10:30:00', '2002-06-05 10:30:00', 7800);\n",
    "INSERT INTO Fila VALUES ('Taquaral', '555555', '2002-06-06 08:10:00', '2002-06-06 08:10:00', 7910);\n",
    "INSERT INTO Fila VALUES ('Unicamp', '987654', '2002-06-05 10:30:00', '2002-06-05 10:35:00', 7850);"
   ]
  },
  {
   "cell_type": "markdown",
   "metadata": {},
   "source": [
    "# Terceira tabela para Operações de Conjunto\n",
    "\n",
    "Tabela de Cliente Empresa. Pode ser uma empresa ou uma pessoa que é de uma empresa. Há pessoas nessa tabela que também podem estar na tabela `Cliente`."
   ]
  },
  {
   "cell_type": "code",
   "execution_count": null,
   "metadata": {},
   "outputs": [],
   "source": [
    "CREATE TABLE ClienteEmpresa (\n",
    "  CliId VARCHAR(4) NOT NULL,\n",
    "  Nome VARCHAR(80) NOT NULL,\n",
    "  CNPJ VARCHAR(14) NOT NULL,\n",
    "  PRIMARY KEY(CliId)\n",
    ");"
   ]
  },
  {
   "cell_type": "code",
   "execution_count": null,
   "metadata": {},
   "outputs": [],
   "source": [
    "INSERT INTO ClienteEmpresa VALUES ('6544', 'Umbrella Corp.', '234987-0001/05');\n",
    "INSERT INTO ClienteEmpresa VALUES ('6786', 'Acme', '555555-0001/07');\n",
    "INSERT INTO ClienteEmpresa VALUES ('6543', 'Quincas & Co.', '322222-0001/03');\n",
    "INSERT INTO ClienteEmpresa VALUES ('1532', 'Asdrúbal', '165555-0001/09');"
   ]
  },
  {
   "cell_type": "markdown",
   "metadata": {},
   "source": [
    "# Operações de Conjunto\n",
    "\n",
    "## Projeção nas tabelas para que adquiram o mesmo esquema"
   ]
  },
  {
   "cell_type": "code",
   "execution_count": null,
   "metadata": {},
   "outputs": [],
   "source": [
    "SELECT cliid, nome\n",
    "       FROM Cliente;\n",
    "\n",
    "SELECT cliid, nome\n",
    "       FROM ClienteEmpresa;"
   ]
  },
  {
   "cell_type": "markdown",
   "metadata": {},
   "source": [
    "## União\n",
    "\n",
    "Todos os clientes das duas tabelas (`Cliente` e `ClienteEmpresa`)."
   ]
  },
  {
   "cell_type": "code",
   "execution_count": null,
   "metadata": {},
   "outputs": [],
   "source": [
    "SELECT cliid, nome\n",
    "       FROM Cliente\n",
    "UNION\n",
    "SELECT cliid, nome\n",
    "       FROM ClienteEmpresa;"
   ]
  },
  {
   "cell_type": "markdown",
   "metadata": {},
   "source": [
    "## Intersecção\n",
    "\n",
    "Clientes que aparecem em ambas as tabelas."
   ]
  },
  {
   "cell_type": "code",
   "execution_count": null,
   "metadata": {},
   "outputs": [],
   "source": [
    "SELECT cliid, nome\n",
    "       FROM Cliente\n",
    "INTERSECT\n",
    "SELECT cliid, nome\n",
    "       FROM ClienteEmpresa;"
   ]
  },
  {
   "cell_type": "markdown",
   "metadata": {},
   "source": [
    "## Diferença\n",
    "\n",
    "Pessoas que estão na tabela `Cliente` e que não estão na tabela `ClienteEmpresa`."
   ]
  },
  {
   "cell_type": "code",
   "execution_count": null,
   "metadata": {},
   "outputs": [],
   "source": [
    "SELECT cliid, nome\n",
    "       FROM Cliente\n",
    "EXCEPT\n",
    "SELECT cliid, nome\n",
    "       FROM ClienteEmpresa;"
   ]
  },
  {
   "cell_type": "markdown",
   "metadata": {},
   "source": [
    "# Combinando Operações\n",
    "\n",
    "Clientes que estão exclusivamente em uma das tabelas (não aparecem em ambas as tabelas)."
   ]
  },
  {
   "cell_type": "markdown",
   "metadata": {},
   "source": [
    "## Abordagem 1 - Unindo as Diferenças"
   ]
  },
  {
   "cell_type": "code",
   "execution_count": null,
   "metadata": {},
   "outputs": [],
   "source": [
    "(SELECT cliid, nome\n",
    "        FROM Cliente\n",
    " EXCEPT\n",
    " SELECT cliid, nome\n",
    "        FROM ClienteEmpresa)\n",
    "UNION   \n",
    "(SELECT cliid, nome\n",
    "        FROM ClienteEmpresa\n",
    " EXCEPT\n",
    " SELECT cliid, nome\n",
    "        FROM Cliente);"
   ]
  },
  {
   "cell_type": "markdown",
   "metadata": {},
   "source": [
    "## Abordagem 2 - Subtraindo a Intersecção da União"
   ]
  },
  {
   "cell_type": "code",
   "execution_count": null,
   "metadata": {},
   "outputs": [],
   "source": [
    "(SELECT cliid, nome\n",
    "        FROM Cliente\n",
    " UNION\n",
    " SELECT cliid, nome\n",
    "        FROM ClienteEmpresa)\n",
    "EXCEPT   \n",
    "(SELECT cliid, nome\n",
    "        FROM Cliente\n",
    " INTERSECT\n",
    " SELECT cliid, nome\n",
    "        FROM ClienteEmpresa);"
   ]
  },
  {
   "cell_type": "markdown",
   "metadata": {},
   "source": [
    "## Abordagem 3 - Combinando Operações de Conjunto com SELECT Aninhado"
   ]
  },
  {
   "cell_type": "code",
   "execution_count": null,
   "metadata": {},
   "outputs": [],
   "source": [
    "SELECT U.cliid, U.nome\n",
    "       FROM (SELECT cliid, nome FROM Cliente\n",
    "             UNION\n",
    "             SELECT cliid, nome FROM ClienteEmpresa) U\n",
    "       WHERE U.cliid NOT IN (SELECT cliid FROM Cliente\n",
    "                             INTERSECT\n",
    "                             SELECT cliid FROM ClienteEmpresa);"
   ]
  },
  {
   "cell_type": "code",
   "execution_count": null,
   "metadata": {},
   "outputs": [],
   "source": []
  }
 ],
 "metadata": {
  "kernelspec": {
   "display_name": "MariaDB",
   "language": "SQL",
   "name": "mariadb_kernel"
  },
  "language_info": {
   "file_extension": ".sql",
   "mimetype": "text/plain",
   "name": "SQL"
  },
  "toc": {
   "base_numbering": 1,
   "nav_menu": {},
   "number_sections": false,
   "sideBar": false,
   "skip_h1_title": false,
   "title_cell": "Table of Contents",
   "title_sidebar": "Contents",
   "toc_cell": false,
   "toc_position": {},
   "toc_section_display": false,
   "toc_window_display": false
  }
 },
 "nbformat": 4,
 "nbformat_minor": 4
}
